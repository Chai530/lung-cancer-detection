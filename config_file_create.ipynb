{
 "cells": [
  {
   "cell_type": "code",
   "execution_count": 1,
   "metadata": {},
   "outputs": [],
   "source": [
    "from configparser import ConfigParser\n",
    "\n",
    "if __name__ == \"__main__\":\n",
    "    # This python file creates a configuartion file. Change the below directories for your application\n",
    "    config = ConfigParser()\n",
    "\n",
    "    # prepare_dataset.py configuration\n",
    "    config['prepare_dataset'] = {\n",
    "        #Path To LIDC Dataset\n",
    "        'LIDC_DICOM_PATH': './LIDC-IDRI',\n",
    "        # Directory to save the output files\n",
    "        # Directory for masks\n",
    "        'MASK_PATH':'./data/Mask',\n",
    "        # Directory for images\n",
    "        'IMAGE_PATH':'./data/Image',\n",
    "        # To save images and mask that doesn't contain any nodule or cancer\n",
    "        # These images will be used later to evaluate our model\n",
    "        'CLEAN_PATH_IMAGE':'./data/Clean/Image',\n",
    "        'CLEAN_PATH_MASK':'./data/Clean/Mask',\n",
    "        # CSV file containing nodule information, malignancy, train test split\n",
    "        'META_PATH': './data/Meta/',\n",
    "        # Mask Threshold is the np.sum(MASK) threshold. Some Masks are too small. We remove these small images,masks as they might act as outliers\n",
    "        # The threshold 8 was decided by empirical evaluation.\n",
    "        'Mask_Threshold':8\n",
    "    }\n",
    "    \n",
    "    \n",
    "    # This is the configuration file for pylidc library\n",
    "    config['pylidc'] = {\n",
    "        # Confidence level determines the overlap between the 4 doctors who have made annotation\n",
    "        'confidence_level': 0.5,\n",
    "        # 512 determines the size of the image\n",
    "        'padding_size': 512\n",
    "    }\n",
    "\n",
    "    # Create the configuration file in lung.conf\n",
    "    with open('./lung.conf', 'w') as f:\n",
    "          config.write(f)"
   ]
  },
  {
   "cell_type": "code",
   "execution_count": null,
   "metadata": {},
   "outputs": [],
   "source": []
  }
 ],
 "metadata": {
  "kernelspec": {
   "display_name": "Python 3",
   "language": "python",
   "name": "python3"
  },
  "language_info": {
   "codemirror_mode": {
    "name": "ipython",
    "version": 3
   },
   "file_extension": ".py",
   "mimetype": "text/x-python",
   "name": "python",
   "nbconvert_exporter": "python",
   "pygments_lexer": "ipython3",
   "version": "3.8.5"
  }
 },
 "nbformat": 4,
 "nbformat_minor": 2
}

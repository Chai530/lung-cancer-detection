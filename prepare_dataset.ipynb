{
 "cells": [
  {
   "cell_type": "code",
   "execution_count": 1,
   "metadata": {},
   "outputs": [
    {
     "name": "stderr",
     "output_type": "stream",
     "text": [
      "\r",
      "  0%|          | 0/100 [00:00<?, ?it/s]"
     ]
    },
    {
     "name": "stdout",
     "output_type": "stream",
     "text": [
      "Loading dicom files ... This may take a moment.\n",
      "Patient ID: LIDC-IDRI-0201 Dicom Shape: (512, 512, 133) Number of Annotated Nodules: 8\n"
     ]
    },
    {
     "name": "stderr",
     "output_type": "stream",
     "text": [
      "\r",
      "  1%|          | 1/100 [00:16<26:34, 16.10s/it]"
     ]
    },
    {
     "name": "stdout",
     "output_type": "stream",
     "text": [
      "Loading dicom files ... This may take a moment.\n",
      "Patient ID: LIDC-IDRI-0202 Dicom Shape: (512, 512, 111) Number of Annotated Nodules: 1\n"
     ]
    },
    {
     "name": "stderr",
     "output_type": "stream",
     "text": [
      "\r",
      "  2%|▏         | 2/100 [00:17<19:19, 11.83s/it]"
     ]
    },
    {
     "name": "stdout",
     "output_type": "stream",
     "text": [
      "Loading dicom files ... This may take a moment.\n",
      "Patient ID: LIDC-IDRI-0203 Dicom Shape: (512, 512, 147) Number of Annotated Nodules: 2\n"
     ]
    },
    {
     "name": "stderr",
     "output_type": "stream",
     "text": [
      "\r",
      "  3%|▎         | 3/100 [00:29<18:57, 11.73s/it]"
     ]
    },
    {
     "name": "stdout",
     "output_type": "stream",
     "text": [
      "Failed to reduce all groups to <= 4 Annotations.\n",
      "Some nodules may be close and must be grouped manually.\n",
      "Loading dicom files ... This may take a moment.\n",
      "Patient ID: LIDC-IDRI-0204 Dicom Shape: (512, 512, 133) Number of Annotated Nodules: 1\n"
     ]
    },
    {
     "name": "stderr",
     "output_type": "stream",
     "text": [
      "\r",
      "  4%|▍         | 4/100 [00:39<17:50, 11.15s/it]"
     ]
    },
    {
     "name": "stdout",
     "output_type": "stream",
     "text": [
      "Loading dicom files ... This may take a moment.\n",
      "Patient ID: LIDC-IDRI-0205 Dicom Shape: (512, 512, 135) Number of Annotated Nodules: 0\n",
      "Clean Dataset LIDC-IDRI-0205\n"
     ]
    },
    {
     "name": "stderr",
     "output_type": "stream",
     "text": [
      "\r",
      "  5%|▌         | 5/100 [01:49<45:42, 28.87s/it]"
     ]
    },
    {
     "name": "stdout",
     "output_type": "stream",
     "text": [
      "Loading dicom files ... This may take a moment.\n",
      "Patient ID: LIDC-IDRI-0206 Dicom Shape: (512, 512, 301) Number of Annotated Nodules: 4\n"
     ]
    },
    {
     "name": "stderr",
     "output_type": "stream",
     "text": [
      "\r",
      "  6%|▌         | 6/100 [02:03<38:24, 24.51s/it]"
     ]
    },
    {
     "name": "stdout",
     "output_type": "stream",
     "text": [
      "Loading dicom files ... This may take a moment.\n",
      "Patient ID: LIDC-IDRI-0207 Dicom Shape: (512, 512, 238) Number of Annotated Nodules: 2\n"
     ]
    },
    {
     "name": "stderr",
     "output_type": "stream",
     "text": [
      "\r",
      "  7%|▋         | 7/100 [02:11<29:58, 19.34s/it]"
     ]
    },
    {
     "name": "stdout",
     "output_type": "stream",
     "text": [
      "Loading dicom files ... This may take a moment.\n",
      "Patient ID: LIDC-IDRI-0208 Dicom Shape: (512, 512, 109) Number of Annotated Nodules: 3\n"
     ]
    },
    {
     "name": "stderr",
     "output_type": "stream",
     "text": [
      "\r",
      "  8%|▊         | 8/100 [02:17<23:33, 15.36s/it]"
     ]
    },
    {
     "name": "stdout",
     "output_type": "stream",
     "text": [
      "Loading dicom files ... This may take a moment.\n",
      "Patient ID: LIDC-IDRI-0209 Dicom Shape: (512, 512, 141) Number of Annotated Nodules: 1\n"
     ]
    },
    {
     "name": "stderr",
     "output_type": "stream",
     "text": [
      "\r",
      "  9%|▉         | 9/100 [02:23<19:15, 12.70s/it]"
     ]
    },
    {
     "name": "stdout",
     "output_type": "stream",
     "text": [
      "Loading dicom files ... This may take a moment.\n",
      "Patient ID: LIDC-IDRI-0210 Dicom Shape: (512, 512, 128) Number of Annotated Nodules: 1\n"
     ]
    },
    {
     "name": "stderr",
     "output_type": "stream",
     "text": [
      "\r",
      " 10%|█         | 10/100 [02:26<14:41,  9.79s/it]"
     ]
    },
    {
     "name": "stdout",
     "output_type": "stream",
     "text": [
      "Loading dicom files ... This may take a moment.\n",
      "Patient ID: LIDC-IDRI-0211 Dicom Shape: (512, 512, 230) Number of Annotated Nodules: 2\n"
     ]
    },
    {
     "name": "stderr",
     "output_type": "stream",
     "text": [
      "\r",
      " 11%|█         | 11/100 [02:45<18:42, 12.62s/it]"
     ]
    },
    {
     "name": "stdout",
     "output_type": "stream",
     "text": [
      "Loading dicom files ... This may take a moment.\n",
      "Patient ID: LIDC-IDRI-0212 Dicom Shape: (512, 512, 133) Number of Annotated Nodules: 1\n"
     ]
    },
    {
     "name": "stderr",
     "output_type": "stream",
     "text": [
      "\r",
      " 12%|█▏        | 12/100 [02:47<13:40,  9.32s/it]"
     ]
    },
    {
     "name": "stdout",
     "output_type": "stream",
     "text": [
      "Loading dicom files ... This may take a moment.\n",
      "Patient ID: LIDC-IDRI-0213 Dicom Shape: (512, 512, 127) Number of Annotated Nodules: 1\n"
     ]
    },
    {
     "name": "stderr",
     "output_type": "stream",
     "text": [
      "\r",
      " 13%|█▎        | 13/100 [02:50<10:54,  7.52s/it]"
     ]
    },
    {
     "name": "stdout",
     "output_type": "stream",
     "text": [
      "Loading dicom files ... This may take a moment.\n",
      "Patient ID: LIDC-IDRI-0214 Dicom Shape: (512, 512, 151) Number of Annotated Nodules: 0\n",
      "Clean Dataset LIDC-IDRI-0214\n"
     ]
    },
    {
     "name": "stderr",
     "output_type": "stream",
     "text": [
      "\r",
      " 14%|█▍        | 14/100 [04:12<42:45, 29.83s/it]"
     ]
    },
    {
     "name": "stdout",
     "output_type": "stream",
     "text": [
      "Loading dicom files ... This may take a moment.\n",
      "Patient ID: LIDC-IDRI-0215 Dicom Shape: (512, 512, 249) Number of Annotated Nodules: 4\n"
     ]
    },
    {
     "name": "stderr",
     "output_type": "stream",
     "text": [
      "\r",
      " 15%|█▌        | 15/100 [04:22<33:47, 23.86s/it]"
     ]
    },
    {
     "name": "stdout",
     "output_type": "stream",
     "text": [
      "Loading dicom files ... This may take a moment.\n",
      "Patient ID: LIDC-IDRI-0216 Dicom Shape: (512, 512, 133) Number of Annotated Nodules: 2\n"
     ]
    },
    {
     "name": "stderr",
     "output_type": "stream",
     "text": [
      "\r",
      " 16%|█▌        | 16/100 [04:26<25:05, 17.93s/it]"
     ]
    },
    {
     "name": "stdout",
     "output_type": "stream",
     "text": [
      "Loading dicom files ... This may take a moment.\n",
      "Patient ID: LIDC-IDRI-0217 Dicom Shape: (512, 512, 135) Number of Annotated Nodules: 3\n"
     ]
    },
    {
     "name": "stderr",
     "output_type": "stream",
     "text": [
      "\r",
      " 17%|█▋        | 17/100 [04:40<23:15, 16.82s/it]"
     ]
    },
    {
     "name": "stdout",
     "output_type": "stream",
     "text": [
      "Loading dicom files ... This may take a moment.\n",
      "Patient ID: LIDC-IDRI-0218 Dicom Shape: (512, 512, 217) Number of Annotated Nodules: 0\n",
      "Clean Dataset LIDC-IDRI-0218\n"
     ]
    },
    {
     "name": "stderr",
     "output_type": "stream",
     "text": [
      "\r",
      " 18%|█▊        | 18/100 [07:02<1:14:14, 54.32s/it]"
     ]
    },
    {
     "name": "stdout",
     "output_type": "stream",
     "text": [
      "Loading dicom files ... This may take a moment.\n",
      "Patient ID: LIDC-IDRI-0219 Dicom Shape: (512, 512, 133) Number of Annotated Nodules: 1\n"
     ]
    },
    {
     "name": "stderr",
     "output_type": "stream",
     "text": [
      "\r",
      " 19%|█▉        | 19/100 [07:07<53:23, 39.55s/it]  "
     ]
    },
    {
     "name": "stdout",
     "output_type": "stream",
     "text": [
      "Loading dicom files ... This may take a moment.\n",
      "Patient ID: LIDC-IDRI-0220 Dicom Shape: (512, 512, 232) Number of Annotated Nodules: 3\n"
     ]
    },
    {
     "name": "stderr",
     "output_type": "stream",
     "text": [
      "\r",
      " 20%|██        | 20/100 [07:32<46:43, 35.04s/it]"
     ]
    },
    {
     "name": "stdout",
     "output_type": "stream",
     "text": [
      "Loading dicom files ... This may take a moment.\n",
      "Patient ID: LIDC-IDRI-0221 Dicom Shape: (512, 512, 138) Number of Annotated Nodules: 1\n"
     ]
    },
    {
     "name": "stderr",
     "output_type": "stream",
     "text": [
      "\r",
      " 21%|██        | 21/100 [07:40<35:35, 27.03s/it]"
     ]
    },
    {
     "name": "stdout",
     "output_type": "stream",
     "text": [
      "Loading dicom files ... This may take a moment.\n",
      "Patient ID: LIDC-IDRI-0222 Dicom Shape: (512, 512, 129) Number of Annotated Nodules: 1\n"
     ]
    },
    {
     "name": "stderr",
     "output_type": "stream",
     "text": [
      "\r",
      " 22%|██▏       | 22/100 [07:43<25:45, 19.82s/it]"
     ]
    },
    {
     "name": "stdout",
     "output_type": "stream",
     "text": [
      "Loading dicom files ... This may take a moment.\n",
      "Patient ID: LIDC-IDRI-0223 Dicom Shape: (512, 512, 238) Number of Annotated Nodules: 3\n"
     ]
    },
    {
     "name": "stderr",
     "output_type": "stream",
     "text": [
      "\r",
      " 23%|██▎       | 23/100 [08:07<27:01, 21.06s/it]"
     ]
    },
    {
     "name": "stdout",
     "output_type": "stream",
     "text": [
      "Loading dicom files ... This may take a moment.\n",
      "Patient ID: LIDC-IDRI-0224 Dicom Shape: (512, 512, 133) Number of Annotated Nodules: 0\n",
      "Clean Dataset LIDC-IDRI-0224\n"
     ]
    },
    {
     "name": "stderr",
     "output_type": "stream",
     "text": [
      "\r",
      " 24%|██▍       | 24/100 [09:16<44:38, 35.25s/it]"
     ]
    },
    {
     "name": "stdout",
     "output_type": "stream",
     "text": [
      "Loading dicom files ... This may take a moment.\n",
      "Patient ID: LIDC-IDRI-0225 Dicom Shape: (512, 512, 133) Number of Annotated Nodules: 0\n",
      "Clean Dataset LIDC-IDRI-0225\n"
     ]
    },
    {
     "name": "stderr",
     "output_type": "stream",
     "text": [
      "\r",
      " 25%|██▌       | 25/100 [10:24<56:27, 45.16s/it]"
     ]
    },
    {
     "name": "stdout",
     "output_type": "stream",
     "text": [
      "Loading dicom files ... This may take a moment.\n",
      "Patient ID: LIDC-IDRI-0226 Dicom Shape: (512, 512, 123) Number of Annotated Nodules: 0\n",
      "Clean Dataset LIDC-IDRI-0226\n"
     ]
    },
    {
     "name": "stderr",
     "output_type": "stream",
     "text": [
      "\r",
      " 26%|██▌       | 26/100 [11:30<1:03:36, 51.57s/it]"
     ]
    },
    {
     "name": "stdout",
     "output_type": "stream",
     "text": [
      "Loading dicom files ... This may take a moment.\n",
      "Patient ID: LIDC-IDRI-0227 Dicom Shape: (512, 512, 137) Number of Annotated Nodules: 1\n"
     ]
    },
    {
     "name": "stderr",
     "output_type": "stream",
     "text": [
      "\r",
      " 27%|██▋       | 27/100 [11:34<45:23, 37.31s/it]  "
     ]
    },
    {
     "name": "stdout",
     "output_type": "stream",
     "text": [
      "Loading dicom files ... This may take a moment.\n",
      "Patient ID: LIDC-IDRI-0228 Dicom Shape: (512, 512, 127) Number of Annotated Nodules: 1\n"
     ]
    },
    {
     "name": "stderr",
     "output_type": "stream",
     "text": [
      "\r",
      " 28%|██▊       | 28/100 [11:39<32:59, 27.49s/it]"
     ]
    },
    {
     "name": "stdout",
     "output_type": "stream",
     "text": [
      "Loading dicom files ... This may take a moment.\n",
      "Patient ID: LIDC-IDRI-0229 Dicom Shape: (512, 512, 141) Number of Annotated Nodules: 7\n"
     ]
    },
    {
     "name": "stderr",
     "output_type": "stream",
     "text": [
      "\r",
      " 29%|██▉       | 29/100 [12:02<30:49, 26.05s/it]"
     ]
    },
    {
     "name": "stdout",
     "output_type": "stream",
     "text": [
      "Loading dicom files ... This may take a moment.\n",
      "Patient ID: LIDC-IDRI-0230 Dicom Shape: (512, 512, 113) Number of Annotated Nodules: 3\n"
     ]
    },
    {
     "name": "stderr",
     "output_type": "stream",
     "text": [
      "\r",
      " 30%|███       | 30/100 [12:07<23:15, 19.94s/it]"
     ]
    },
    {
     "name": "stdout",
     "output_type": "stream",
     "text": [
      "Loading dicom files ... This may take a moment.\n",
      "Patient ID: LIDC-IDRI-0231 Dicom Shape: (512, 512, 147) Number of Annotated Nodules: 1\n"
     ]
    },
    {
     "name": "stderr",
     "output_type": "stream",
     "text": [
      "\r",
      " 31%|███       | 31/100 [12:10<16:57, 14.75s/it]"
     ]
    },
    {
     "name": "stdout",
     "output_type": "stream",
     "text": [
      "Loading dicom files ... This may take a moment.\n",
      "Patient ID: LIDC-IDRI-0232 Dicom Shape: (512, 512, 133) Number of Annotated Nodules: 2\n"
     ]
    },
    {
     "name": "stderr",
     "output_type": "stream",
     "text": [
      "\r",
      " 32%|███▏      | 32/100 [12:13<12:52, 11.36s/it]"
     ]
    },
    {
     "name": "stdout",
     "output_type": "stream",
     "text": [
      "Loading dicom files ... This may take a moment.\n",
      "Patient ID: LIDC-IDRI-0233 Dicom Shape: (512, 512, 147) Number of Annotated Nodules: 2\n"
     ]
    },
    {
     "name": "stderr",
     "output_type": "stream",
     "text": [
      "\r",
      " 33%|███▎      | 33/100 [12:18<10:27,  9.37s/it]"
     ]
    },
    {
     "name": "stdout",
     "output_type": "stream",
     "text": [
      "Loading dicom files ... This may take a moment.\n",
      "Patient ID: LIDC-IDRI-0234 Dicom Shape: (512, 512, 133) Number of Annotated Nodules: 1\n"
     ]
    },
    {
     "name": "stderr",
     "output_type": "stream",
     "text": [
      "\r",
      " 34%|███▍      | 34/100 [12:22<08:30,  7.73s/it]"
     ]
    },
    {
     "name": "stdout",
     "output_type": "stream",
     "text": [
      "Loading dicom files ... This may take a moment.\n",
      "Patient ID: LIDC-IDRI-0235 Dicom Shape: (512, 512, 139) Number of Annotated Nodules: 3\n"
     ]
    },
    {
     "name": "stderr",
     "output_type": "stream",
     "text": [
      "\r",
      " 35%|███▌      | 35/100 [12:29<08:14,  7.60s/it]"
     ]
    },
    {
     "name": "stdout",
     "output_type": "stream",
     "text": [
      "Loading dicom files ... This may take a moment.\n",
      "Patient ID: LIDC-IDRI-0236 Dicom Shape: (512, 512, 133) Number of Annotated Nodules: 2\n"
     ]
    },
    {
     "name": "stderr",
     "output_type": "stream",
     "text": [
      "\r",
      " 36%|███▌      | 36/100 [12:37<08:03,  7.55s/it]"
     ]
    },
    {
     "name": "stdout",
     "output_type": "stream",
     "text": [
      "Loading dicom files ... This may take a moment.\n",
      "Patient ID: LIDC-IDRI-0237 Dicom Shape: (512, 512, 142) Number of Annotated Nodules: 3\n"
     ]
    },
    {
     "name": "stderr",
     "output_type": "stream",
     "text": [
      "\r",
      " 37%|███▋      | 37/100 [12:44<07:55,  7.55s/it]"
     ]
    },
    {
     "name": "stdout",
     "output_type": "stream",
     "text": [
      "Loading dicom files ... This may take a moment.\n",
      "Patient ID: LIDC-IDRI-0239 Dicom Shape: (512, 512, 153) Number of Annotated Nodules: 0\n",
      "Clean Dataset LIDC-IDRI-0239\n"
     ]
    },
    {
     "name": "stderr",
     "output_type": "stream",
     "text": [
      "\r",
      " 38%|███▊      | 38/100 [14:01<29:14, 28.29s/it]"
     ]
    },
    {
     "name": "stdout",
     "output_type": "stream",
     "text": [
      "Loading dicom files ... This may take a moment.\n",
      "Patient ID: LIDC-IDRI-0240 Dicom Shape: (512, 512, 125) Number of Annotated Nodules: 5\n"
     ]
    },
    {
     "name": "stderr",
     "output_type": "stream",
     "text": [
      "\r",
      " 39%|███▉      | 39/100 [14:14<24:00, 23.61s/it]"
     ]
    },
    {
     "name": "stdout",
     "output_type": "stream",
     "text": [
      "Loading dicom files ... This may take a moment.\n",
      "Patient ID: LIDC-IDRI-0241 Dicom Shape: (512, 512, 301) Number of Annotated Nodules: 5\n"
     ]
    },
    {
     "name": "stderr",
     "output_type": "stream",
     "text": [
      "\r",
      " 40%|████      | 40/100 [14:23<19:26, 19.45s/it]"
     ]
    },
    {
     "name": "stdout",
     "output_type": "stream",
     "text": [
      "Loading dicom files ... This may take a moment.\n",
      "Patient ID: LIDC-IDRI-0242 Dicom Shape: (512, 512, 152) Number of Annotated Nodules: 1\n"
     ]
    },
    {
     "name": "stderr",
     "output_type": "stream",
     "text": [
      "\r",
      " 41%|████      | 41/100 [14:31<15:42, 15.97s/it]"
     ]
    },
    {
     "name": "stdout",
     "output_type": "stream",
     "text": [
      "Loading dicom files ... This may take a moment.\n",
      "Patient ID: LIDC-IDRI-0243 Dicom Shape: (512, 512, 143) Number of Annotated Nodules: 2\n"
     ]
    },
    {
     "name": "stderr",
     "output_type": "stream",
     "text": [
      "\r",
      " 42%|████▏     | 42/100 [14:35<11:53, 12.30s/it]"
     ]
    },
    {
     "name": "stdout",
     "output_type": "stream",
     "text": [
      "Loading dicom files ... This may take a moment.\n",
      "Patient ID: LIDC-IDRI-0244 Dicom Shape: (512, 512, 144) Number of Annotated Nodules: 3\n"
     ]
    },
    {
     "name": "stderr",
     "output_type": "stream",
     "text": [
      "\r",
      " 43%|████▎     | 43/100 [14:44<10:50, 11.42s/it]"
     ]
    },
    {
     "name": "stdout",
     "output_type": "stream",
     "text": [
      "Loading dicom files ... This may take a moment.\n",
      "Patient ID: LIDC-IDRI-0245 Dicom Shape: (512, 512, 116) Number of Annotated Nodules: 1\n"
     ]
    },
    {
     "name": "stderr",
     "output_type": "stream",
     "text": [
      "\r",
      " 44%|████▍     | 44/100 [14:47<08:10,  8.76s/it]"
     ]
    },
    {
     "name": "stdout",
     "output_type": "stream",
     "text": [
      "Loading dicom files ... This may take a moment.\n",
      "Patient ID: LIDC-IDRI-0246 Dicom Shape: (512, 512, 143) Number of Annotated Nodules: 1\n"
     ]
    },
    {
     "name": "stderr",
     "output_type": "stream",
     "text": [
      "\r",
      " 45%|████▌     | 45/100 [14:50<06:34,  7.18s/it]"
     ]
    },
    {
     "name": "stdout",
     "output_type": "stream",
     "text": [
      "Loading dicom files ... This may take a moment.\n",
      "Patient ID: LIDC-IDRI-0247 Dicom Shape: (512, 512, 127) Number of Annotated Nodules: 1\n"
     ]
    },
    {
     "name": "stderr",
     "output_type": "stream",
     "text": [
      "\r",
      " 46%|████▌     | 46/100 [14:52<05:02,  5.60s/it]"
     ]
    },
    {
     "name": "stdout",
     "output_type": "stream",
     "text": [
      "Loading dicom files ... This may take a moment.\n",
      "Patient ID: LIDC-IDRI-0248 Dicom Shape: (512, 512, 117) Number of Annotated Nodules: 1\n"
     ]
    },
    {
     "name": "stderr",
     "output_type": "stream",
     "text": [
      "\r",
      " 47%|████▋     | 47/100 [14:55<04:08,  4.69s/it]"
     ]
    },
    {
     "name": "stdout",
     "output_type": "stream",
     "text": [
      "Loading dicom files ... This may take a moment.\n",
      "Patient ID: LIDC-IDRI-0249 Dicom Shape: (512, 512, 214) Number of Annotated Nodules: 2\n"
     ]
    },
    {
     "name": "stderr",
     "output_type": "stream",
     "text": [
      "\r",
      " 48%|████▊     | 48/100 [15:11<06:54,  7.97s/it]"
     ]
    },
    {
     "name": "stdout",
     "output_type": "stream",
     "text": [
      "Loading dicom files ... This may take a moment.\n",
      "Patient ID: LIDC-IDRI-0250 Dicom Shape: (512, 512, 133) Number of Annotated Nodules: 3\n"
     ]
    },
    {
     "name": "stderr",
     "output_type": "stream",
     "text": [
      "\r",
      " 49%|████▉     | 49/100 [15:19<07:00,  8.24s/it]"
     ]
    },
    {
     "name": "stdout",
     "output_type": "stream",
     "text": [
      "Loading dicom files ... This may take a moment.\n",
      "Patient ID: LIDC-IDRI-0251 Dicom Shape: (512, 512, 133) Number of Annotated Nodules: 1\n"
     ]
    },
    {
     "name": "stderr",
     "output_type": "stream",
     "text": [
      "\r",
      " 50%|█████     | 50/100 [15:23<05:37,  6.75s/it]"
     ]
    },
    {
     "name": "stdout",
     "output_type": "stream",
     "text": [
      "Failed to reduce all groups to <= 4 Annotations.\n",
      "Some nodules may be close and must be grouped manually.\n",
      "Loading dicom files ... This may take a moment.\n",
      "Patient ID: LIDC-IDRI-0252 Dicom Shape: (512, 512, 148) Number of Annotated Nodules: 1\n"
     ]
    },
    {
     "name": "stderr",
     "output_type": "stream",
     "text": [
      "\r",
      " 51%|█████     | 51/100 [15:30<05:35,  6.85s/it]"
     ]
    },
    {
     "name": "stdout",
     "output_type": "stream",
     "text": [
      "Loading dicom files ... This may take a moment.\n",
      "Patient ID: LIDC-IDRI-0253 Dicom Shape: (512, 512, 133) Number of Annotated Nodules: 0\n",
      "Clean Dataset LIDC-IDRI-0253\n"
     ]
    },
    {
     "name": "stderr",
     "output_type": "stream",
     "text": [
      "\r",
      " 52%|█████▏    | 52/100 [16:45<21:55, 27.40s/it]"
     ]
    },
    {
     "name": "stdout",
     "output_type": "stream",
     "text": [
      "Loading dicom files ... This may take a moment.\n",
      "Patient ID: LIDC-IDRI-0254 Dicom Shape: (512, 512, 109) Number of Annotated Nodules: 3\n"
     ]
    },
    {
     "name": "stderr",
     "output_type": "stream",
     "text": [
      "\r",
      " 53%|█████▎    | 53/100 [16:51<16:29, 21.06s/it]"
     ]
    },
    {
     "name": "stdout",
     "output_type": "stream",
     "text": [
      "Loading dicom files ... This may take a moment.\n",
      "Patient ID: LIDC-IDRI-0255 Dicom Shape: (512, 512, 133) Number of Annotated Nodules: 2\n"
     ]
    },
    {
     "name": "stderr",
     "output_type": "stream",
     "text": [
      "\r",
      " 54%|█████▍    | 54/100 [16:56<12:22, 16.15s/it]"
     ]
    },
    {
     "name": "stdout",
     "output_type": "stream",
     "text": [
      "Loading dicom files ... This may take a moment.\n",
      "Patient ID: LIDC-IDRI-0256 Dicom Shape: (512, 512, 131) Number of Annotated Nodules: 2\n"
     ]
    },
    {
     "name": "stderr",
     "output_type": "stream",
     "text": [
      "\r",
      " 55%|█████▌    | 55/100 [17:00<09:23, 12.53s/it]"
     ]
    },
    {
     "name": "stdout",
     "output_type": "stream",
     "text": [
      "Loading dicom files ... This may take a moment.\n",
      "Patient ID: LIDC-IDRI-0257 Dicom Shape: (512, 512, 133) Number of Annotated Nodules: 1\n"
     ]
    },
    {
     "name": "stderr",
     "output_type": "stream",
     "text": [
      "\r",
      " 56%|█████▌    | 56/100 [17:05<07:28, 10.19s/it]"
     ]
    },
    {
     "name": "stdout",
     "output_type": "stream",
     "text": [
      "Loading dicom files ... This may take a moment.\n",
      "Patient ID: LIDC-IDRI-0258 Dicom Shape: (512, 512, 133) Number of Annotated Nodules: 2\n"
     ]
    },
    {
     "name": "stderr",
     "output_type": "stream",
     "text": [
      "\r",
      " 57%|█████▋    | 57/100 [17:11<06:23,  8.91s/it]"
     ]
    },
    {
     "name": "stdout",
     "output_type": "stream",
     "text": [
      "Loading dicom files ... This may take a moment.\n",
      "Patient ID: LIDC-IDRI-0259 Dicom Shape: (512, 512, 149) Number of Annotated Nodules: 1\n"
     ]
    },
    {
     "name": "stderr",
     "output_type": "stream",
     "text": [
      "\r",
      " 58%|█████▊    | 58/100 [17:16<05:32,  7.92s/it]"
     ]
    },
    {
     "name": "stdout",
     "output_type": "stream",
     "text": [
      "Loading dicom files ... This may take a moment.\n",
      "Patient ID: LIDC-IDRI-0260 Dicom Shape: (512, 512, 144) Number of Annotated Nodules: 4\n"
     ]
    },
    {
     "name": "stderr",
     "output_type": "stream",
     "text": [
      "\r",
      " 59%|█████▉    | 59/100 [17:30<06:34,  9.63s/it]"
     ]
    },
    {
     "name": "stdout",
     "output_type": "stream",
     "text": [
      "Loading dicom files ... This may take a moment.\n",
      "Patient ID: LIDC-IDRI-0261 Dicom Shape: (512, 512, 139) Number of Annotated Nodules: 0\n",
      "Clean Dataset LIDC-IDRI-0261\n"
     ]
    },
    {
     "name": "stderr",
     "output_type": "stream",
     "text": [
      "\r",
      " 60%|██████    | 60/100 [18:38<18:10, 27.27s/it]"
     ]
    },
    {
     "name": "stdout",
     "output_type": "stream",
     "text": [
      "Loading dicom files ... This may take a moment.\n",
      "Patient ID: LIDC-IDRI-0262 Dicom Shape: (512, 512, 197) Number of Annotated Nodules: 1\n"
     ]
    },
    {
     "name": "stderr",
     "output_type": "stream",
     "text": [
      "\r",
      " 61%|██████    | 61/100 [18:46<13:55, 21.43s/it]"
     ]
    },
    {
     "name": "stdout",
     "output_type": "stream",
     "text": [
      "Loading dicom files ... This may take a moment.\n",
      "Patient ID: LIDC-IDRI-0263 Dicom Shape: (512, 512, 137) Number of Annotated Nodules: 1\n"
     ]
    },
    {
     "name": "stderr",
     "output_type": "stream",
     "text": [
      "\r",
      " 62%|██████▏   | 62/100 [18:49<10:01, 15.82s/it]"
     ]
    },
    {
     "name": "stdout",
     "output_type": "stream",
     "text": [
      "Loading dicom files ... This may take a moment.\n",
      "Patient ID: LIDC-IDRI-0264 Dicom Shape: (512, 512, 238) Number of Annotated Nodules: 2\n"
     ]
    },
    {
     "name": "stderr",
     "output_type": "stream",
     "text": [
      "\r",
      " 63%|██████▎   | 63/100 [19:04<09:39, 15.65s/it]"
     ]
    },
    {
     "name": "stdout",
     "output_type": "stream",
     "text": [
      "Loading dicom files ... This may take a moment.\n",
      "Patient ID: LIDC-IDRI-0265 Dicom Shape: (512, 512, 133) Number of Annotated Nodules: 1\n"
     ]
    },
    {
     "name": "stderr",
     "output_type": "stream",
     "text": [
      "\r",
      " 64%|██████▍   | 64/100 [19:14<08:24, 14.01s/it]"
     ]
    },
    {
     "name": "stdout",
     "output_type": "stream",
     "text": [
      "Loading dicom files ... This may take a moment.\n",
      "Patient ID: LIDC-IDRI-0266 Dicom Shape: (512, 512, 238) Number of Annotated Nodules: 1\n"
     ]
    },
    {
     "name": "stderr",
     "output_type": "stream",
     "text": [
      "\r",
      " 65%|██████▌   | 65/100 [19:33<08:59, 15.40s/it]"
     ]
    },
    {
     "name": "stdout",
     "output_type": "stream",
     "text": [
      "Loading dicom files ... This may take a moment.\n",
      "Patient ID: LIDC-IDRI-0267 Dicom Shape: (512, 512, 150) Number of Annotated Nodules: 2\n"
     ]
    },
    {
     "name": "stderr",
     "output_type": "stream",
     "text": [
      "\r",
      " 66%|██████▌   | 66/100 [19:53<09:27, 16.69s/it]"
     ]
    },
    {
     "name": "stdout",
     "output_type": "stream",
     "text": [
      "Loading dicom files ... This may take a moment.\n",
      "Patient ID: LIDC-IDRI-0268 Dicom Shape: (512, 512, 117) Number of Annotated Nodules: 1\n"
     ]
    },
    {
     "name": "stderr",
     "output_type": "stream",
     "text": [
      "\r",
      " 67%|██████▋   | 67/100 [19:55<06:42, 12.21s/it]"
     ]
    },
    {
     "name": "stdout",
     "output_type": "stream",
     "text": [
      "Loading dicom files ... This may take a moment.\n",
      "Patient ID: LIDC-IDRI-0269 Dicom Shape: (512, 512, 293) Number of Annotated Nodules: 1\n"
     ]
    },
    {
     "name": "stderr",
     "output_type": "stream",
     "text": [
      "\r",
      " 68%|██████▊   | 68/100 [19:59<05:19,  9.97s/it]"
     ]
    },
    {
     "name": "stdout",
     "output_type": "stream",
     "text": [
      "Loading dicom files ... This may take a moment.\n",
      "Patient ID: LIDC-IDRI-0270 Dicom Shape: (512, 512, 143) Number of Annotated Nodules: 1\n"
     ]
    },
    {
     "name": "stderr",
     "output_type": "stream",
     "text": [
      "\r",
      " 69%|██████▉   | 69/100 [20:02<04:03,  7.85s/it]"
     ]
    },
    {
     "name": "stdout",
     "output_type": "stream",
     "text": [
      "Loading dicom files ... This may take a moment.\n",
      "Patient ID: LIDC-IDRI-0271 Dicom Shape: (512, 512, 117) Number of Annotated Nodules: 1\n"
     ]
    },
    {
     "name": "stderr",
     "output_type": "stream",
     "text": [
      "\r",
      " 70%|███████   | 70/100 [20:05<03:08,  6.28s/it]"
     ]
    },
    {
     "name": "stdout",
     "output_type": "stream",
     "text": [
      "Loading dicom files ... This may take a moment.\n",
      "Patient ID: LIDC-IDRI-0272 Dicom Shape: (512, 512, 119) Number of Annotated Nodules: 1\n"
     ]
    },
    {
     "name": "stderr",
     "output_type": "stream",
     "text": [
      "\r",
      " 71%|███████   | 71/100 [20:07<02:30,  5.17s/it]"
     ]
    },
    {
     "name": "stdout",
     "output_type": "stream",
     "text": [
      "Loading dicom files ... This may take a moment.\n",
      "Patient ID: LIDC-IDRI-0273 Dicom Shape: (512, 512, 133) Number of Annotated Nodules: 2\n"
     ]
    },
    {
     "name": "stderr",
     "output_type": "stream",
     "text": [
      "\r",
      " 72%|███████▏  | 72/100 [20:11<02:13,  4.76s/it]"
     ]
    },
    {
     "name": "stdout",
     "output_type": "stream",
     "text": [
      "Loading dicom files ... This may take a moment.\n",
      "Patient ID: LIDC-IDRI-0274 Dicom Shape: (512, 512, 133) Number of Annotated Nodules: 1\n"
     ]
    },
    {
     "name": "stderr",
     "output_type": "stream",
     "text": [
      "\r",
      " 73%|███████▎  | 73/100 [20:16<02:08,  4.75s/it]"
     ]
    },
    {
     "name": "stdout",
     "output_type": "stream",
     "text": [
      "Loading dicom files ... This may take a moment.\n",
      "Patient ID: LIDC-IDRI-0275 Dicom Shape: (512, 512, 144) Number of Annotated Nodules: 1\n"
     ]
    },
    {
     "name": "stderr",
     "output_type": "stream",
     "text": [
      "\r",
      " 74%|███████▍  | 74/100 [20:19<01:47,  4.12s/it]"
     ]
    },
    {
     "name": "stdout",
     "output_type": "stream",
     "text": [
      "Loading dicom files ... This may take a moment.\n",
      "Patient ID: LIDC-IDRI-0276 Dicom Shape: (512, 512, 133) Number of Annotated Nodules: 2\n"
     ]
    },
    {
     "name": "stderr",
     "output_type": "stream",
     "text": [
      "\r",
      " 75%|███████▌  | 75/100 [20:23<01:45,  4.23s/it]"
     ]
    },
    {
     "name": "stdout",
     "output_type": "stream",
     "text": [
      "Loading dicom files ... This may take a moment.\n",
      "Patient ID: LIDC-IDRI-0277 Dicom Shape: (512, 512, 117) Number of Annotated Nodules: 1\n"
     ]
    },
    {
     "name": "stderr",
     "output_type": "stream",
     "text": [
      "\r",
      " 76%|███████▌  | 76/100 [20:27<01:39,  4.15s/it]"
     ]
    },
    {
     "name": "stdout",
     "output_type": "stream",
     "text": [
      "Loading dicom files ... This may take a moment.\n",
      "Patient ID: LIDC-IDRI-0278 Dicom Shape: (512, 512, 214) Number of Annotated Nodules: 2\n"
     ]
    },
    {
     "name": "stderr",
     "output_type": "stream",
     "text": [
      "\r",
      " 77%|███████▋  | 77/100 [20:33<01:50,  4.79s/it]"
     ]
    },
    {
     "name": "stdout",
     "output_type": "stream",
     "text": [
      "Loading dicom files ... This may take a moment.\n",
      "Patient ID: LIDC-IDRI-0279 Dicom Shape: (512, 512, 129) Number of Annotated Nodules: 0\n",
      "Clean Dataset LIDC-IDRI-0279\n"
     ]
    },
    {
     "name": "stderr",
     "output_type": "stream",
     "text": [
      "\r",
      " 78%|███████▊  | 78/100 [21:45<09:04, 24.75s/it]"
     ]
    },
    {
     "name": "stdout",
     "output_type": "stream",
     "text": [
      "Loading dicom files ... This may take a moment.\n",
      "Patient ID: LIDC-IDRI-0280 Dicom Shape: (512, 512, 238) Number of Annotated Nodules: 1\n"
     ]
    },
    {
     "name": "stderr",
     "output_type": "stream",
     "text": [
      "\r",
      " 79%|███████▉  | 79/100 [21:48<06:27, 18.46s/it]"
     ]
    },
    {
     "name": "stdout",
     "output_type": "stream",
     "text": [
      "Loading dicom files ... This may take a moment.\n",
      "Patient ID: LIDC-IDRI-0281 Dicom Shape: (512, 512, 119) Number of Annotated Nodules: 1\n"
     ]
    },
    {
     "name": "stderr",
     "output_type": "stream",
     "text": [
      "\r",
      " 80%|████████  | 80/100 [21:52<04:37, 13.88s/it]"
     ]
    },
    {
     "name": "stdout",
     "output_type": "stream",
     "text": [
      "Loading dicom files ... This may take a moment.\n",
      "Patient ID: LIDC-IDRI-0282 Dicom Shape: (512, 512, 119) Number of Annotated Nodules: 2\n"
     ]
    },
    {
     "name": "stderr",
     "output_type": "stream",
     "text": [
      "\r",
      " 81%|████████  | 81/100 [21:56<03:30, 11.08s/it]"
     ]
    },
    {
     "name": "stdout",
     "output_type": "stream",
     "text": [
      "Loading dicom files ... This may take a moment.\n",
      "Patient ID: LIDC-IDRI-0283 Dicom Shape: (512, 512, 115) Number of Annotated Nodules: 1\n"
     ]
    },
    {
     "name": "stderr",
     "output_type": "stream",
     "text": [
      "\r",
      " 82%|████████▏ | 82/100 [21:59<02:34,  8.57s/it]"
     ]
    },
    {
     "name": "stdout",
     "output_type": "stream",
     "text": [
      "Loading dicom files ... This may take a moment.\n",
      "Patient ID: LIDC-IDRI-0284 Dicom Shape: (512, 512, 133) Number of Annotated Nodules: 3\n"
     ]
    },
    {
     "name": "stderr",
     "output_type": "stream",
     "text": [
      "\r",
      " 83%|████████▎ | 83/100 [22:04<02:09,  7.64s/it]"
     ]
    },
    {
     "name": "stdout",
     "output_type": "stream",
     "text": [
      "Loading dicom files ... This may take a moment.\n",
      "Patient ID: LIDC-IDRI-0285 Dicom Shape: (512, 512, 151) Number of Annotated Nodules: 2\n"
     ]
    },
    {
     "name": "stderr",
     "output_type": "stream",
     "text": [
      "\r",
      " 84%|████████▍ | 84/100 [22:15<02:14,  8.43s/it]"
     ]
    },
    {
     "name": "stdout",
     "output_type": "stream",
     "text": [
      "Loading dicom files ... This may take a moment.\n",
      "Patient ID: LIDC-IDRI-0286 Dicom Shape: (512, 512, 140) Number of Annotated Nodules: 2\n"
     ]
    },
    {
     "name": "stderr",
     "output_type": "stream",
     "text": [
      "\r",
      " 85%|████████▌ | 85/100 [22:20<01:51,  7.41s/it]"
     ]
    },
    {
     "name": "stdout",
     "output_type": "stream",
     "text": [
      "Loading dicom files ... This may take a moment.\n",
      "Patient ID: LIDC-IDRI-0287 Dicom Shape: (512, 512, 109) Number of Annotated Nodules: 1\n"
     ]
    },
    {
     "name": "stderr",
     "output_type": "stream",
     "text": [
      "\r",
      " 86%|████████▌ | 86/100 [22:22<01:21,  5.83s/it]"
     ]
    },
    {
     "name": "stdout",
     "output_type": "stream",
     "text": [
      "Loading dicom files ... This may take a moment.\n",
      "Patient ID: LIDC-IDRI-0288 Dicom Shape: (512, 512, 238) Number of Annotated Nodules: 2\n"
     ]
    },
    {
     "name": "stderr",
     "output_type": "stream",
     "text": [
      "\r",
      " 87%|████████▋ | 87/100 [22:26<01:10,  5.43s/it]"
     ]
    },
    {
     "name": "stdout",
     "output_type": "stream",
     "text": [
      "Loading dicom files ... This may take a moment.\n",
      "Patient ID: LIDC-IDRI-0289 Dicom Shape: (512, 512, 117) Number of Annotated Nodules: 3\n"
     ]
    },
    {
     "name": "stderr",
     "output_type": "stream",
     "text": [
      "\r",
      " 88%|████████▊ | 88/100 [22:35<01:16,  6.36s/it]"
     ]
    },
    {
     "name": "stdout",
     "output_type": "stream",
     "text": [
      "Loading dicom files ... This may take a moment.\n",
      "Patient ID: LIDC-IDRI-0290 Dicom Shape: (512, 512, 133) Number of Annotated Nodules: 3\n"
     ]
    },
    {
     "name": "stderr",
     "output_type": "stream",
     "text": [
      "\r",
      " 89%|████████▉ | 89/100 [22:38<00:58,  5.30s/it]"
     ]
    },
    {
     "name": "stdout",
     "output_type": "stream",
     "text": [
      "Loading dicom files ... This may take a moment.\n",
      "Patient ID: LIDC-IDRI-0291 Dicom Shape: (512, 512, 270) Number of Annotated Nodules: 1\n"
     ]
    },
    {
     "name": "stderr",
     "output_type": "stream",
     "text": [
      "\r",
      " 90%|█████████ | 90/100 [22:42<00:50,  5.04s/it]"
     ]
    },
    {
     "name": "stdout",
     "output_type": "stream",
     "text": [
      "Loading dicom files ... This may take a moment.\n",
      "Patient ID: LIDC-IDRI-0292 Dicom Shape: (512, 512, 500) Number of Annotated Nodules: 1\n"
     ]
    },
    {
     "name": "stderr",
     "output_type": "stream",
     "text": [
      "\r",
      " 91%|█████████ | 91/100 [22:51<00:54,  6.08s/it]"
     ]
    },
    {
     "name": "stdout",
     "output_type": "stream",
     "text": [
      "Loading dicom files ... This may take a moment.\n",
      "Patient ID: LIDC-IDRI-0293 Dicom Shape: (512, 512, 484) Number of Annotated Nodules: 0\n",
      "Clean Dataset LIDC-IDRI-0293\n"
     ]
    },
    {
     "name": "stderr",
     "output_type": "stream",
     "text": [
      "\r",
      " 92%|█████████▏| 92/100 [26:52<10:13, 76.71s/it]"
     ]
    },
    {
     "name": "stdout",
     "output_type": "stream",
     "text": [
      "Loading dicom files ... This may take a moment.\n",
      "Patient ID: LIDC-IDRI-0294 Dicom Shape: (512, 512, 175) Number of Annotated Nodules: 2\n"
     ]
    },
    {
     "name": "stderr",
     "output_type": "stream",
     "text": [
      "\r",
      " 93%|█████████▎| 93/100 [27:03<06:37, 56.83s/it]"
     ]
    },
    {
     "name": "stdout",
     "output_type": "stream",
     "text": [
      "Loading dicom files ... This may take a moment.\n",
      "Patient ID: LIDC-IDRI-0295 Dicom Shape: (512, 512, 284) Number of Annotated Nodules: 0\n",
      "Clean Dataset LIDC-IDRI-0295\n"
     ]
    },
    {
     "name": "stderr",
     "output_type": "stream",
     "text": [
      "\r",
      " 94%|█████████▍| 94/100 [29:36<08:35, 85.89s/it]"
     ]
    },
    {
     "name": "stdout",
     "output_type": "stream",
     "text": [
      "Loading dicom files ... This may take a moment.\n",
      "Patient ID: LIDC-IDRI-0296 Dicom Shape: (512, 512, 121) Number of Annotated Nodules: 1\n"
     ]
    },
    {
     "name": "stderr",
     "output_type": "stream",
     "text": [
      "\r",
      " 95%|█████████▌| 95/100 [29:42<05:08, 61.70s/it]"
     ]
    },
    {
     "name": "stdout",
     "output_type": "stream",
     "text": [
      "Loading dicom files ... This may take a moment.\n",
      "Patient ID: LIDC-IDRI-0297 Dicom Shape: (512, 512, 539) Number of Annotated Nodules: 2\n"
     ]
    },
    {
     "name": "stderr",
     "output_type": "stream",
     "text": [
      "\r",
      " 96%|█████████▌| 96/100 [29:50<03:02, 45.74s/it]"
     ]
    },
    {
     "name": "stdout",
     "output_type": "stream",
     "text": [
      "Loading dicom files ... This may take a moment.\n",
      "Patient ID: LIDC-IDRI-0298 Dicom Shape: (512, 512, 326) Number of Annotated Nodules: 7\n"
     ]
    },
    {
     "name": "stderr",
     "output_type": "stream",
     "text": [
      "\r",
      " 97%|█████████▋| 97/100 [30:23<02:05, 41.83s/it]"
     ]
    },
    {
     "name": "stdout",
     "output_type": "stream",
     "text": [
      "Loading dicom files ... This may take a moment.\n",
      "Patient ID: LIDC-IDRI-0299 Dicom Shape: (512, 512, 541) Number of Annotated Nodules: 5\n"
     ]
    },
    {
     "name": "stderr",
     "output_type": "stream",
     "text": [
      "\r",
      " 98%|█████████▊| 98/100 [30:45<01:11, 35.95s/it]"
     ]
    },
    {
     "name": "stdout",
     "output_type": "stream",
     "text": [
      "Loading dicom files ... This may take a moment.\n",
      "Patient ID: LIDC-IDRI-0300 Dicom Shape: (512, 512, 383) Number of Annotated Nodules: 4\n"
     ]
    },
    {
     "name": "stderr",
     "output_type": "stream",
     "text": [
      "\r",
      " 99%|█████████▉| 99/100 [31:12<00:33, 33.41s/it]"
     ]
    },
    {
     "name": "stdout",
     "output_type": "stream",
     "text": [
      "Loading dicom files ... This may take a moment.\n",
      "Patient ID: LIDC-IDRI-0301 Dicom Shape: (512, 512, 513) Number of Annotated Nodules: 2\n"
     ]
    },
    {
     "name": "stderr",
     "output_type": "stream",
     "text": [
      "100%|██████████| 100/100 [31:25<00:00, 18.86s/it]"
     ]
    },
    {
     "name": "stdout",
     "output_type": "stream",
     "text": [
      "Saved Meta data\n"
     ]
    },
    {
     "name": "stderr",
     "output_type": "stream",
     "text": [
      "\n"
     ]
    }
   ],
   "source": [
    "import sys\n",
    "import os\n",
    "from pathlib import Path\n",
    "import glob\n",
    "from configparser import ConfigParser\n",
    "import pandas as pd\n",
    "import numpy as np\n",
    "import warnings\n",
    "import pylidc as pl\n",
    "from tqdm import tqdm\n",
    "from statistics import median_high\n",
    "from utils import is_dir_path,segment_lung\n",
    "from pylidc.utils import consensus\n",
    "from PIL import Image\n",
    "\n",
    "warnings.filterwarnings(action='ignore')\n",
    "\n",
    "#Read the configuration file generated from config_file_create.py\n",
    "parser = ConfigParser()\n",
    "parser.read('lung.conf')\n",
    "\n",
    "#Get Directory setting\n",
    "DICOM_DIR = is_dir_path(parser.get('prepare_dataset','LIDC_DICOM_PATH'))\n",
    "MASK_DIR = is_dir_path(parser.get('prepare_dataset','MASK_PATH'))\n",
    "IMAGE_DIR = is_dir_path(parser.get('prepare_dataset','IMAGE_PATH'))\n",
    "CLEAN_DIR_IMAGE = is_dir_path(parser.get('prepare_dataset','CLEAN_PATH_IMAGE'))\n",
    "CLEAN_DIR_MASK = is_dir_path(parser.get('prepare_dataset','CLEAN_PATH_MASK'))\n",
    "META_DIR = is_dir_path(parser.get('prepare_dataset','META_PATH'))\n",
    "\n",
    "#Hyper Parameter setting for prepare dataset function\n",
    "mask_threshold = parser.getint('prepare_dataset','Mask_Threshold')\n",
    "\n",
    "#Hyper Parameter setting for pylidc\n",
    "confidence_level = parser.getfloat('pylidc','confidence_level')\n",
    "padding = parser.getint('pylidc','padding_size')\n",
    "\n",
    "\n",
    "class MakeDataSet:\n",
    "    def __init__(self, LIDC_Patients_list, IMAGE_DIR, MASK_DIR,CLEAN_DIR_IMAGE,CLEAN_DIR_MASK,META_DIR, mask_threshold, padding, confidence_level=0.5):\n",
    "        self.IDRI_list = LIDC_Patients_list\n",
    "        self.img_path = IMAGE_DIR\n",
    "        self.mask_path = MASK_DIR\n",
    "        self.clean_path_img = CLEAN_DIR_IMAGE\n",
    "        self.clean_path_mask = CLEAN_DIR_MASK\n",
    "        self.meta_path = META_DIR\n",
    "        self.mask_threshold = mask_threshold\n",
    "        self.c_level = confidence_level\n",
    "        self.padding = [(padding,padding),(padding,padding),(0,0)]\n",
    "        self.meta = pd.DataFrame(index=[],columns=['patient_id','nodule_no','slice_no','original_image','mask_image','malignancy','is_cancer','is_clean'])\n",
    "        \n",
    "    def calculate_malignancy(self,nodule):\n",
    "        # Calculate the malignancy of a nodule with the annotations made by 4 doctors. Return median high of the annotated cancer, True or False label for cancer\n",
    "        # if median high is above 3, return a label True for cancer\n",
    "        # if it is below 3, return a label False for non-cancer\n",
    "        # if it is 3, then return ambiguous\n",
    "        list_of_malignancy =[]\n",
    "        for annotation in nodule:\n",
    "            list_of_malignancy.append(annotation.malignancy)\n",
    "        malignancy = median_high(list_of_malignancy)\n",
    "        if  malignancy > 3:\n",
    "            return malignancy,True\n",
    "        elif malignancy < 3:\n",
    "            return malignancy, False\n",
    "        else:\n",
    "            return malignancy, 'Ambiguous'\n",
    "    def save_meta(self,meta_list):\n",
    "        \"\"\"Saves the information of nodule to csv file\"\"\"\n",
    "        tmp = pd.Series(meta_list,index=['patient_id','nodule_no','slice_no','original_image','mask_image','malignancy','is_cancer','is_clean'])\n",
    "        self.meta = self.meta.append(tmp,ignore_index=True)\n",
    "    def prepare_dataset(self):\n",
    "        # This is to name each image and mask\n",
    "        prefix = [str(x).zfill(3) for x in range(1000)]\n",
    "\n",
    "        # Make directory\n",
    "        if not os.path.exists(self.img_path):\n",
    "            os.makedirs(self.img_path)\n",
    "        if not os.path.exists(self.mask_path):\n",
    "            os.makedirs(self.mask_path)\n",
    "        if not os.path.exists(self.clean_path_img):\n",
    "            os.makedirs(self.clean_path_img)\n",
    "        if not os.path.exists(self.clean_path_mask):\n",
    "            os.makedirs(self.clean_path_mask)\n",
    "        if not os.path.exists(self.meta_path):\n",
    "            os.makedirs(self.meta_path)\n",
    "        IMAGE_DIR = Path(self.img_path)\n",
    "        MASK_DIR = Path(self.mask_path)\n",
    "        CLEAN_DIR_IMAGE = Path(self.clean_path_img)\n",
    "        CLEAN_DIR_MASK = Path(self.clean_path_mask)\n",
    "        \n",
    "        for patient in tqdm(self.IDRI_list):\n",
    "            pid = patient #LIDC-IDRI-0001~\n",
    "            scan = pl.query(pl.Scan).filter(pl.Scan.patient_id == pid).first()\n",
    "            nodules_annotation = scan.cluster_annotations()\n",
    "            vol = scan.to_volume()\n",
    "            print(\"Patient ID: {} Dicom Shape: {} Number of Annotated Nodules: {}\".format(pid,vol.shape,len(nodules_annotation)))\n",
    "            patient_image_dir = IMAGE_DIR / pid\n",
    "            patient_mask_dir = MASK_DIR / pid\n",
    "            Path(patient_image_dir).mkdir(parents=True, exist_ok=True)\n",
    "            Path(patient_mask_dir).mkdir(parents=True, exist_ok=True)\n",
    "            if len(nodules_annotation) > 0:\n",
    "                # Patients with nodules\n",
    "                for nodule_idx, nodule in enumerate(nodules_annotation):\n",
    "                # Call nodule images. Each Patient will have at maximum 4 annotations as there are only 4 doctors\n",
    "                # This current for loop iterates over total number of nodules in a single patient\n",
    "                    mask, cbbox, masks = consensus(nodule,self.c_level,self.padding)\n",
    "                    lung_np_array = vol[cbbox]\n",
    "                    #To calculate the malignancy information\n",
    "                    malignancy, cancer_label = self.calculate_malignancy(nodule)\n",
    "                    for nodule_slice in range(mask.shape[2]):\n",
    "                        # This second for loop iterates over each single nodule.\n",
    "                        # There are some mask sizes that are too small. These may hinder training.\n",
    "                        if np.sum(mask[:,:,nodule_slice]) <= self.mask_threshold:\n",
    "                            continue\n",
    "                        # Segment Lung part only\n",
    "                        lung_segmented_np_array = segment_lung(lung_np_array[:,:,nodule_slice])\n",
    "                        # To ensure not error case happen in pytorch and change negative value to 0\n",
    "                        lung_segmented_np_array[lung_segmented_np_array==-0] =0\n",
    "                        # This itereates through the slices of a single nodule\n",
    "                        # Name for each file:  MA= Mask Original,NI= Nodule Image\n",
    "                        nodule_name = \"{}_NI{}_slice{}\".format(pid[-4:],prefix[nodule_idx],prefix[nodule_slice])\n",
    "                        mask_name = \"{}_MA{}_slice{}\".format(pid[-4:],prefix[nodule_idx],prefix[nodule_slice])\n",
    "                        meta_list = [pid[-4:],nodule_idx,prefix[nodule_slice],nodule_name,mask_name,malignancy,cancer_label,False]\n",
    "                        self.save_meta(meta_list)\n",
    "                        np.save(patient_image_dir / nodule_name,lung_segmented_np_array)\n",
    "                        np.save(patient_mask_dir / mask_name,mask[:,:,nodule_slice])\n",
    "            else:\n",
    "                print(\"Clean Dataset\",pid)\n",
    "                patient_clean_dir_image = CLEAN_DIR_IMAGE / pid\n",
    "                patient_clean_dir_mask = CLEAN_DIR_MASK / pid\n",
    "                Path(patient_clean_dir_image).mkdir(parents=True, exist_ok=True)\n",
    "                Path(patient_clean_dir_mask).mkdir(parents=True, exist_ok=True)\n",
    "                #CT image that don't have nodule at all. \n",
    "                for slice in range(vol.shape[2]):\n",
    "                    lung_segmented_np_array = segment_lung(vol[:,:,slice])\n",
    "                    lung_segmented_np_array[lung_segmented_np_array==-0] =0\n",
    "                    lung_mask = np.zeros_like(lung_segmented_np_array)\n",
    "                    # CM = CleanMask, CN= CleanNodule\n",
    "                    nodule_name = \"{}_CN{}_slice{}\".format(pid[-4:],slice,prefix[slice])\n",
    "                    mask_name = \"{}_CM{}_slice{}\".format(pid[-4:],slice,prefix[slice])\n",
    "                    meta_list = [pid[-4:],slice,prefix[slice],nodule_name,mask_name,0,False,True]\n",
    "                    self.save_meta(meta_list)\n",
    "                    np.save(patient_clean_dir_image / nodule_name, lung_segmented_np_array)\n",
    "                    np.save(patient_clean_dir_mask / mask_name, lung_mask)\n",
    "            \n",
    "        print(\"Saved Meta data\")\n",
    "        self.meta.to_csv(self.meta_path+'meta_info.csv',index=False)\n",
    "        \n",
    "        \n",
    "if __name__ == '__main__':\n",
    "    # simply using os.listdir() includes the gitignore file \n",
    "    LIDC_IDRI_list= [f for f in os.listdir(DICOM_DIR) if not f.startswith('.')]\n",
    "    LIDC_IDRI_list.sort()\n",
    "    test= MakeDataSet(LIDC_IDRI_list,IMAGE_DIR,MASK_DIR,CLEAN_DIR_IMAGE,CLEAN_DIR_MASK,META_DIR,mask_threshold,padding,confidence_level)\n",
    "    test.prepare_dataset()"
   ]
  },
  {
   "cell_type": "code",
   "execution_count": null,
   "metadata": {},
   "outputs": [],
   "source": []
  }
 ],
 "metadata": {
  "kernelspec": {
   "display_name": "Python 3",
   "language": "python",
   "name": "python3"
  },
  "language_info": {
   "codemirror_mode": {
    "name": "ipython",
    "version": 3
   },
   "file_extension": ".py",
   "mimetype": "text/x-python",
   "name": "python",
   "nbconvert_exporter": "python",
   "pygments_lexer": "ipython3",
   "version": "3.8.5"
  }
 },
 "nbformat": 4,
 "nbformat_minor": 2
}
